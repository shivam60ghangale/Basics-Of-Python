{
  "nbformat": 4,
  "nbformat_minor": 0,
  "metadata": {
    "colab": {
      "name": "Shivam_Prakash_Ghangale_9187_Assignment_1.ipynb",
      "provenance": [],
      "collapsed_sections": []
    },
    "kernelspec": {
      "name": "python3",
      "display_name": "Python 3"
    },
    "language_info": {
      "name": "python"
    }
  },
  "cells": [
    {
      "cell_type": "code",
      "execution_count": null,
      "metadata": {
        "id": "AQljpCDjRh9M"
      },
      "outputs": [],
      "source": [
        "Name=\"Shivam Prakash Ghangale\"\n",
        "Roll_No=9187"
      ]
    },
    {
      "cell_type": "markdown",
      "metadata": {
        "id": "zddStRefVezy"
      },
      "source": [
        "Lists"
      ]
    },
    {
      "cell_type": "code",
      "execution_count": null,
      "metadata": {
        "colab": {
          "base_uri": "https://localhost:8080/"
        },
        "id": "UPa8vWBHT7Mt",
        "outputId": "cda3f22d-360b-4712-f397-1e0e8cb32af4"
      },
      "outputs": [
        {
          "output_type": "stream",
          "name": "stdout",
          "text": [
            "['Shivam', 'Ghangale', 21, 'Student']\n",
            "['SP College', 'Autonomous', 'Sadashiv Peth', 411030]\n"
          ]
        }
      ],
      "source": [
        "A=[\"Shivam\",\"Ghangale\",21,\"Student\",]\n",
        "B=[\"SP College\",\"Autonomous\",\"Sadashiv Peth\",411030]\n",
        "print(A)\n",
        "print(B)"
      ]
    },
    {
      "cell_type": "markdown",
      "metadata": {
        "id": "A33kXrv8VnVw"
      },
      "source": [
        "Tupples"
      ]
    },
    {
      "cell_type": "code",
      "execution_count": null,
      "metadata": {
        "colab": {
          "base_uri": "https://localhost:8080/"
        },
        "id": "CLWvdwTyVo6k",
        "outputId": "cc067c77-943c-4220-b6cc-370813a8d4c9"
      },
      "outputs": [
        {
          "output_type": "stream",
          "name": "stdout",
          "text": [
            "('Shivam', 'Ghangale', 21, 'Student')\n",
            "('SP College', 'Autonomous', 'Sadashiv Peth', 411030)\n"
          ]
        }
      ],
      "source": [
        "a=(\"Shivam\",\"Ghangale\",21,\"Student\")\n",
        "b=(\"SP College\",\"Autonomous\",\"Sadashiv Peth\",411030)\n",
        "print(a)\n",
        "print(b)"
      ]
    },
    {
      "cell_type": "code",
      "execution_count": null,
      "metadata": {
        "colab": {
          "base_uri": "https://localhost:8080/"
        },
        "id": "P0PC7eFiW1xa",
        "outputId": "68f8defc-f38c-47ae-c604-1358b3d82829"
      },
      "outputs": [
        {
          "output_type": "stream",
          "name": "stdout",
          "text": [
            "['Shivam', 'Ghangale']\n",
            "['Sadashiv Peth']\n",
            "21\n",
            "411030\n"
          ]
        }
      ],
      "source": [
        "print(A[0:2])\n",
        "print(B[2:3])\n",
        "print(a[2])\n",
        "print(b[3])"
      ]
    },
    {
      "cell_type": "markdown",
      "metadata": {
        "id": "Vq1FbFa4V7GU"
      },
      "source": [
        "Class"
      ]
    },
    {
      "cell_type": "code",
      "execution_count": null,
      "metadata": {
        "colab": {
          "base_uri": "https://localhost:8080/"
        },
        "id": "K9Zz9geHWSYX",
        "outputId": "287de861-9271-4566-e76f-0cc01d0bb6ee"
      },
      "outputs": [
        {
          "output_type": "stream",
          "name": "stdout",
          "text": [
            "<class 'list'>\n",
            "<class 'list'>\n",
            "<class 'tuple'>\n",
            "<class 'tuple'>\n"
          ]
        }
      ],
      "source": [
        "print(type(A))\n",
        "print(type(B))\n",
        "print(type(a))\n",
        "print(type(b))"
      ]
    },
    {
      "cell_type": "markdown",
      "metadata": {
        "id": "HyzEj8AlWoo8"
      },
      "source": [
        "Copy"
      ]
    },
    {
      "cell_type": "code",
      "execution_count": null,
      "metadata": {
        "colab": {
          "base_uri": "https://localhost:8080/"
        },
        "id": "I5ALFx4NfqHY",
        "outputId": "38e5ab40-21c6-4287-b792-9d536d0cd7f5"
      },
      "outputs": [
        {
          "output_type": "stream",
          "name": "stdout",
          "text": [
            "['Shivam', 'Ghangale', 21, 'Student']\n",
            "['Shivam', 'Ghangale', 21, 'Student']\n"
          ]
        }
      ],
      "source": [
        "print(A)\n",
        "A1=A.copy()\n",
        "print(A1)\n",
        "\n",
        "### Tupples cannot be copied"
      ]
    },
    {
      "cell_type": "markdown",
      "metadata": {
        "id": "H2Igh-Dnhi3e"
      },
      "source": [
        "Append"
      ]
    },
    {
      "cell_type": "code",
      "execution_count": null,
      "metadata": {
        "colab": {
          "base_uri": "https://localhost:8080/"
        },
        "id": "KJV-dQhOhnWk",
        "outputId": "a8b88b1b-2586-4740-aad6-68941aa9ab24"
      },
      "outputs": [
        {
          "output_type": "stream",
          "name": "stdout",
          "text": [
            "['SP College', 'Autonomous', 'Sadashiv Peth', 411030]\n",
            "['SP College', 'Autonomous', 'Sadashiv Peth', 411030, 'Autonomous']\n"
          ]
        }
      ],
      "source": [
        "print(B)\n",
        "B.append(\"Autonomous\")\n",
        "print(B)\n",
        "\n",
        "### TUpples cannot be modified"
      ]
    },
    {
      "cell_type": "markdown",
      "metadata": {
        "id": "yzC-dWA8j2_j"
      },
      "source": [
        "Count"
      ]
    },
    {
      "cell_type": "code",
      "execution_count": null,
      "metadata": {
        "colab": {
          "base_uri": "https://localhost:8080/"
        },
        "id": "gX7asZPvj4VK",
        "outputId": "276a164c-0272-4bb2-df8b-e8f2134d01da"
      },
      "outputs": [
        {
          "output_type": "stream",
          "name": "stdout",
          "text": [
            "3\n",
            "4\n"
          ]
        }
      ],
      "source": [
        "print(A.count(\"Shivam\"))\n",
        "A.append(\"Shivam\")\n",
        "print(A.count(\"Shivam\"))"
      ]
    },
    {
      "cell_type": "markdown",
      "metadata": {
        "id": "uZcdiR0plxbk"
      },
      "source": [
        "Delete list"
      ]
    },
    {
      "cell_type": "code",
      "execution_count": null,
      "metadata": {
        "id": "UpHOO4Isly_O",
        "outputId": "1d1f5724-cf84-4dcd-d80a-54703d479bd1",
        "colab": {
          "base_uri": "https://localhost:8080/"
        }
      },
      "outputs": [
        {
          "output_type": "stream",
          "name": "stdout",
          "text": [
            "['Shivam', 'Ghangale', 21, 'Student']\n"
          ]
        }
      ],
      "source": [
        "try:\n",
        " print(A1)\n",
        " del A1\n",
        " print(A1)\n",
        "except:\n",
        "    pass\n",
        "\n",
        "### List A1 is deleted therefore it is showing error\n",
        "### Used Try and Expect to maintain the continuity of the program"
      ]
    },
    {
      "cell_type": "markdown",
      "metadata": {
        "id": "htdmmPEFmSZ2"
      },
      "source": [
        "Extend"
      ]
    },
    {
      "cell_type": "code",
      "execution_count": null,
      "metadata": {
        "colab": {
          "base_uri": "https://localhost:8080/"
        },
        "id": "FiPc5sWpmTaG",
        "outputId": "62121f60-c097-4e9f-bb8f-6ac01a2d1643"
      },
      "outputs": [
        {
          "output_type": "stream",
          "name": "stdout",
          "text": [
            "['Shivam', 'Ghangale', 21, 'Student', 'Shivam', 'Yogesh Kumar', 'Shivam', 'Shivam']\n",
            "['SP College', 'Autonomous', 'Sadashiv Peth', 411030]\n",
            "['Shivam', 'Ghangale', 21, 'Student', 'Shivam', 'Yogesh Kumar', 'Shivam', 'Shivam', 'SP College', 'Autonomous', 'Sadashiv Peth', 411030]\n"
          ]
        }
      ],
      "source": [
        "print(A)\n",
        "print(B)\n",
        "A.extend(B)\n",
        "print(A)"
      ]
    },
    {
      "cell_type": "markdown",
      "metadata": {
        "id": "3SZNyOkSmz_4"
      },
      "source": [
        "Index"
      ]
    },
    {
      "cell_type": "code",
      "execution_count": null,
      "metadata": {
        "colab": {
          "base_uri": "https://localhost:8080/"
        },
        "id": "lh7Fcztcm5zQ",
        "outputId": "63a24986-d8e5-4038-cf08-a16b297c6c03"
      },
      "outputs": [
        {
          "output_type": "stream",
          "name": "stdout",
          "text": [
            "2\n",
            "9\n"
          ]
        }
      ],
      "source": [
        "print(B.index(\"Sadashiv Peth\"))\n",
        "print(A.index(\"Autonomous\"))\n",
        "\n",
        "### If the elements are repeated in the list then index() will provide the index no. of first element"
      ]
    },
    {
      "cell_type": "markdown",
      "metadata": {
        "id": "i18HeCFVna_F"
      },
      "source": [
        "Sort"
      ]
    },
    {
      "cell_type": "code",
      "execution_count": null,
      "metadata": {
        "colab": {
          "base_uri": "https://localhost:8080/"
        },
        "id": "53GvfXQgnb07",
        "outputId": "28e06415-41f0-4c47-926e-ed9d01e660ec"
      },
      "outputs": [
        {
          "output_type": "stream",
          "name": "stdout",
          "text": [
            "['D', 'A', 'C', 'B']\n",
            "[4, 2, 1, 3]\n",
            "['A', 'B', 'C', 'D']\n",
            "[1, 2, 3, 4]\n"
          ]
        }
      ],
      "source": [
        "K=[\"D\",\"A\",\"C\",\"B\"]\n",
        "print(K)\n",
        "K1=[4,2,1,3]\n",
        "print(K1)\n",
        "K.sort()\n",
        "K1.sort()\n",
        "print(K)\n",
        "print(K1)\n",
        "\n",
        "### For sorting all the elements in the list should be of same type"
      ]
    },
    {
      "cell_type": "markdown",
      "metadata": {
        "id": "gcL3B3ELoci8"
      },
      "source": [
        "Access"
      ]
    },
    {
      "cell_type": "code",
      "execution_count": null,
      "metadata": {
        "colab": {
          "base_uri": "https://localhost:8080/"
        },
        "id": "Ej2MOc8Nofdk",
        "outputId": "d997958f-bee9-4874-c94c-b46ae2309e64"
      },
      "outputs": [
        {
          "output_type": "stream",
          "name": "stdout",
          "text": [
            "['A', 'B']\n",
            "[1, 2, 3, 4]\n"
          ]
        }
      ],
      "source": [
        "print(K[:2])\n",
        "print(K1[0:])"
      ]
    },
    {
      "cell_type": "markdown",
      "metadata": {
        "id": "CsCUgmvxo_KC"
      },
      "source": [
        "Nested List"
      ]
    },
    {
      "cell_type": "code",
      "execution_count": null,
      "metadata": {
        "colab": {
          "base_uri": "https://localhost:8080/"
        },
        "id": "M4UQ5D3VpApW",
        "outputId": "f7822782-8c61-4afa-dfe5-316a34802e09"
      },
      "outputs": [
        {
          "output_type": "stream",
          "name": "stdout",
          "text": [
            "['Shivam Ghangale', 'SP COllege', [21, 411030]]\n",
            "[21, 411030]\n"
          ]
        }
      ],
      "source": [
        "ABlist=[\"Shivam Ghangale\",\"SP COllege\",[21,411030]]\n",
        "print(ABlist)\n",
        "print(ABlist[2])"
      ]
    }
  ]
}