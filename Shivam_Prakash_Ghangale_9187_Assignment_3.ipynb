{
  "nbformat": 4,
  "nbformat_minor": 0,
  "metadata": {
    "colab": {
      "name": "Shivam_Prakash_Ghangale_9187_Assignment 3",
      "provenance": [],
      "collapsed_sections": []
    },
    "kernelspec": {
      "name": "python3",
      "display_name": "Python 3"
    },
    "language_info": {
      "name": "python"
    }
  },
  "cells": [
    {
      "cell_type": "markdown",
      "source": [
        "Q.57] Write a program to calculate PMF and CDF of Binomial distribution with parameters \n",
        "n=10, p=0.5\n"
      ],
      "metadata": {
        "id": "KANuc-1vRQAE"
      }
    },
    {
      "cell_type": "code",
      "source": [
        "from scipy.stats import binom\n",
        "import numpy as np\n",
        "n = 10\n",
        "p = 0.5\n",
        "x = np.arange(0, n+1)\n",
        "binomial_pmf = binom.pmf(x, n, p)\n",
        "binomial_pmf\n"
      ],
      "metadata": {
        "colab": {
          "base_uri": "https://localhost:8080/"
        },
        "id": "hoLxF-hePIGU",
        "outputId": "5304b22e-89fe-4cd5-837c-91aee4de2a5e"
      },
      "execution_count": null,
      "outputs": [
        {
          "output_type": "execute_result",
          "data": {
            "text/plain": [
              "array([0.00097656, 0.00976563, 0.04394531, 0.1171875 , 0.20507813,\n",
              "       0.24609375, 0.20507813, 0.1171875 , 0.04394531, 0.00976563,\n",
              "       0.00097656])"
            ]
          },
          "metadata": {},
          "execution_count": 10
        }
      ]
    },
    {
      "cell_type": "code",
      "source": [
        "binomial_cdf = binom.cdf(x, n, p)\n",
        "binomial_cdf"
      ],
      "metadata": {
        "colab": {
          "base_uri": "https://localhost:8080/"
        },
        "id": "oPAg6O0fRJp1",
        "outputId": "eb3cc56b-b7ec-46e2-aae8-5b4ad29e4e6a"
      },
      "execution_count": null,
      "outputs": [
        {
          "output_type": "execute_result",
          "data": {
            "text/plain": [
              "array([9.76562500e-04, 1.07421875e-02, 5.46875000e-02, 1.71875000e-01,\n",
              "       3.76953125e-01, 6.23046875e-01, 8.28125000e-01, 9.45312500e-01,\n",
              "       9.89257812e-01, 9.99023438e-01, 1.00000000e+00])"
            ]
          },
          "metadata": {},
          "execution_count": 11
        }
      ]
    },
    {
      "cell_type": "markdown",
      "source": [
        "Q.58] Write a program to calculate PMF and CDF of Geometric distribution with parameter \n",
        "p=0.5"
      ],
      "metadata": {
        "id": "4lcoXzkURXi8"
      }
    },
    {
      "cell_type": "code",
      "source": [
        "from scipy.stats import geom \n",
        "Geom_pmf=geom.pmf(p=0.5, k=2)\n",
        "Geom_pmf\n",
        "\n",
        " "
      ],
      "metadata": {
        "id": "DEDxuOpvRZ59",
        "colab": {
          "base_uri": "https://localhost:8080/"
        },
        "outputId": "2efbc3fe-efc7-44c8-8681-75d8f1c52815"
      },
      "execution_count": null,
      "outputs": [
        {
          "output_type": "execute_result",
          "data": {
            "text/plain": [
              "0.25"
            ]
          },
          "metadata": {},
          "execution_count": 8
        }
      ]
    },
    {
      "cell_type": "code",
      "source": [
        "Geom_cdf=geom.cdf(p=0.5, k=2)\n",
        "Geom_cdf"
      ],
      "metadata": {
        "colab": {
          "base_uri": "https://localhost:8080/"
        },
        "id": "PVJKtT1zrWBY",
        "outputId": "06703690-89a8-4868-9b84-fdf4f4467720"
      },
      "execution_count": null,
      "outputs": [
        {
          "output_type": "execute_result",
          "data": {
            "text/plain": [
              "0.75"
            ]
          },
          "metadata": {},
          "execution_count": 9
        }
      ]
    },
    {
      "cell_type": "markdown",
      "source": [
        "Q59 ] Write a program to calculate and print the mean, median, mode, variance and coefficient \n",
        "of variation of the following frequency distribution. \n",
        "x 1 2 3 4 5\n",
        "f 10 20 40 21 9"
      ],
      "metadata": {
        "id": "ZNazQ4fQxsoE"
      }
    },
    {
      "cell_type": "code",
      "source": [
        "X=[1,2,3,4,5]\n",
        "F=[10,20,40,21,9]\n",
        "print (\"Original list 1 : \" + str(X))\n",
        "print (\"Original list 1 : \" + str(F))\n",
        "FX=[]\n",
        "for i in range(0, len(X)):\n",
        "    FX.append(X[i]*F[i])\n",
        "print(\"FX is :\" + str(FX))    \n"
      ],
      "metadata": {
        "id": "TMTK5HwhtOhK",
        "colab": {
          "base_uri": "https://localhost:8080/"
        },
        "outputId": "0fb307e0-7306-481f-9512-63a9d368318d"
      },
      "execution_count": null,
      "outputs": [
        {
          "output_type": "stream",
          "name": "stdout",
          "text": [
            "Original list 1 : [1, 2, 3, 4, 5]\n",
            "Original list 1 : [10, 20, 40, 21, 9]\n",
            "FX is :[10, 40, 120, 84, 45]\n"
          ]
        }
      ]
    },
    {
      "cell_type": "code",
      "source": [
        "sum_f=sum(F)\n",
        "sum_f"
      ],
      "metadata": {
        "colab": {
          "base_uri": "https://localhost:8080/"
        },
        "id": "Ah--uiFctXc1",
        "outputId": "6b3d82e5-d1e0-4802-c149-8ad9e5657079"
      },
      "execution_count": null,
      "outputs": [
        {
          "output_type": "execute_result",
          "data": {
            "text/plain": [
              "100"
            ]
          },
          "metadata": {},
          "execution_count": 16
        }
      ]
    },
    {
      "cell_type": "code",
      "source": [
        "sum_fx=sum(FX)\n",
        "sum_fx"
      ],
      "metadata": {
        "colab": {
          "base_uri": "https://localhost:8080/"
        },
        "id": "zxTHgBLFtt5O",
        "outputId": "80a1e478-4a74-451b-c2e2-63bb3667e2a1"
      },
      "execution_count": null,
      "outputs": [
        {
          "output_type": "execute_result",
          "data": {
            "text/plain": [
              "299"
            ]
          },
          "metadata": {},
          "execution_count": 17
        }
      ]
    },
    {
      "cell_type": "markdown",
      "source": [
        "Mean"
      ],
      "metadata": {
        "id": "jgo5Sh5ZCTPU"
      }
    },
    {
      "cell_type": "code",
      "source": [
        "mean=sum_fx/sum_f\n",
        "mean"
      ],
      "metadata": {
        "colab": {
          "base_uri": "https://localhost:8080/"
        },
        "id": "8D1zNNTBuIDu",
        "outputId": "23ecbb94-4984-47a1-f7f2-5af4df91dbed"
      },
      "execution_count": null,
      "outputs": [
        {
          "output_type": "execute_result",
          "data": {
            "text/plain": [
              "2.99"
            ]
          },
          "metadata": {},
          "execution_count": 18
        }
      ]
    },
    {
      "cell_type": "markdown",
      "source": [
        "Median"
      ],
      "metadata": {
        "id": "3uOVJV6oCNBr"
      }
    },
    {
      "cell_type": "code",
      "source": [
        "X=[1,2,3,4,5]\n",
        "F=[10,20,40,21,9]\n",
        "x = [1,1,1,1,1,1,1,1,1,1,2,2,2,2,2,2,2,2,2,2,2,2,2,2,2,2,2,2,2,2,3,3,3,3,3,3,3,3,3,3,3,3,3,3,3,3,3,3,3,3,3,3,3,3,3,3,3,3,3,3,3,3,3,3,3,3,3,3,3,3,4,4,4,4,4,4,4,4,4,4,4,4,4,4,4,4,4,4,4,4,4,5,5,5,5,5,5,5,5,5]\n",
        "med=statistics.median(x)\n",
        "print(\"Median of x is % s\" % med)\n"
      ],
      "metadata": {
        "colab": {
          "base_uri": "https://localhost:8080/"
        },
        "id": "PXrDF2-su1AY",
        "outputId": "bd8e5f11-5669-4c1b-a8ff-3753830736c4"
      },
      "execution_count": 8,
      "outputs": [
        {
          "output_type": "stream",
          "name": "stdout",
          "text": [
            "Median of x is 3.0\n"
          ]
        }
      ]
    },
    {
      "cell_type": "markdown",
      "source": [
        "Mode"
      ],
      "metadata": {
        "id": "5hA-tQzt7twu"
      }
    },
    {
      "cell_type": "code",
      "source": [
        "import statistics\n",
        "X = [1,2,3,4,5]\n",
        "F = [10,20,40,21,9]\n",
        "MD=max(F)\n",
        "print(\"Mode of given data set is % s\" % MD)"
      ],
      "metadata": {
        "colab": {
          "base_uri": "https://localhost:8080/"
        },
        "id": "dZKR6nuD6Xfw",
        "outputId": "95b6af30-6d37-46a8-e6b7-7747e2e1621e"
      },
      "execution_count": 4,
      "outputs": [
        {
          "output_type": "stream",
          "name": "stdout",
          "text": [
            "Mode of given data set is 40\n"
          ]
        }
      ]
    },
    {
      "cell_type": "markdown",
      "source": [
        "Varience"
      ],
      "metadata": {
        "id": "1xcFTn5JBEjD"
      }
    },
    {
      "cell_type": "code",
      "source": [
        "import statistics\n",
        "X = [1,2,3,4,5]\n",
        "F = [10,20,40,21,9]\n",
        "x = [1,1,1,1,1,1,1,1,1,1,2,2,2,2,2,2,2,2,2,2,2,2,2,2,2,2,2,2,2,2,3,3,3,3,3,3,3,3,3,3,3,3,3,3,3,3,3,3,3,3,3,3,3,3,3,3,3,3,3,3,3,3,3,3,3,3,3,3,3,3,4,4,4,4,4,4,4,4,4,4,4,4,4,4,4,4,4,4,4,4,4,5,5,5,5,5,5,5,5,5]\n",
        "from statistics import variance\n",
        "var = variance(x);\n",
        "print(\"Variance of X is % s\" % var)\n"
      ],
      "metadata": {
        "colab": {
          "base_uri": "https://localhost:8080/"
        },
        "id": "zK_tanCo93nM",
        "outputId": "09734c69-5cd0-488c-d313-95a1a3c6f730"
      },
      "execution_count": 6,
      "outputs": [
        {
          "output_type": "stream",
          "name": "stdout",
          "text": [
            "Variance of X is 1.1817171717171717\n"
          ]
        }
      ]
    },
    {
      "cell_type": "markdown",
      "source": [
        "Coefficient of Variation"
      ],
      "metadata": {
        "id": "4h6LGYmOBjUE"
      }
    },
    {
      "cell_type": "code",
      "source": [
        "import numpy as np\n",
        "import pandas as pd\n",
        "x = [1,1,1,1,1,1,1,1,1,1,2,2,2,2,2,2,2,2,2,2,2,2,2,2,2,2,2,2,2,2,3,3,3,3,3,3,3,3,3,3,3,3,3,3,3,3,3,3,3,3,3,3,3,3,3,3,3,3,3,3,3,3,3,3,3,3,3,3,3,3,4,4,4,4,4,4,4,4,4,4,4,4,4,4,4,4,4,4,4,4,4,5,5,5,5,5,5,5,5,5]\n",
        "cv = lambda x: np.std(x, ddof=1) / np.mean(x) * 100 \n",
        "CV = cv(X)\n",
        "print(\"Coefficient of Variation of X is % s\" % CV)"
      ],
      "metadata": {
        "colab": {
          "base_uri": "https://localhost:8080/"
        },
        "id": "8lg5RxKLBTQM",
        "outputId": "a7e5c2c6-cc9b-4459-e074-04943ba70569"
      },
      "execution_count": 7,
      "outputs": [
        {
          "output_type": "stream",
          "name": "stdout",
          "text": [
            "Coefficient of Variation of X is 52.70462766947299\n"
          ]
        }
      ]
    },
    {
      "cell_type": "markdown",
      "source": [
        "Q60 ] Write a program to find the mean, variance and coefficient of variation of n observations. \n",
        "Hence find and print the three values for the following set of observations. \n",
        "30.1, 23.5, 27.9, 13.4, 15.8, 14.9, 32.4, 35.2, 29.1, 20.1"
      ],
      "metadata": {
        "id": "DEwJT9sMzdUB"
      }
    },
    {
      "cell_type": "code",
      "source": [
        "import statistics\n",
        "from statistics import median\n",
        "X=[30.1,23.5,27.9,13.4,15.8,14.9,32.4,35.2,29.1,20.1]\n",
        "mean = statistics.mean(X);\n",
        "median = median(X);\n",
        "import statistics\n",
        "from statistics import variance\n",
        "X = [30.1,23.5,27.9,13.4,15.8,14.9,32.4,35.2,29.1,20.1]\n",
        "var = variance(X);\n",
        "import numpy as np\n",
        "import pandas as pd\n",
        "cv = lambda x: np.std(x, ddof=1) / np.mean(x) * 100 \n",
        "CV = cv(X)\n",
        "print(\"Mean of X is % s\" % mean)\n",
        "print(\"Variance of X is % s\" % var)\n",
        "print(\"Coefficient of Variation of X is % s\" % CV)\n",
        "\n",
        "\n"
      ],
      "metadata": {
        "colab": {
          "base_uri": "https://localhost:8080/"
        },
        "id": "v5bStyRozfSh",
        "outputId": "7d90e568-c162-4daa-c5fd-964cda931bcb"
      },
      "execution_count": null,
      "outputs": [
        {
          "output_type": "stream",
          "name": "stdout",
          "text": [
            "Mean of X is 24.240000000000002\n",
            "Variance of X is 61.30266666666667\n",
            "Coefficient of Variation of X is 32.30033806997643\n"
          ]
        }
      ]
    },
    {
      "cell_type": "markdown",
      "source": [
        ""
      ],
      "metadata": {
        "id": "cf3IsfpeC-Bm"
      }
    },
    {
      "cell_type": "markdown",
      "source": [
        "Q61 ] The lengths and weights of a sample of six articles manufactured by a factor are given \n",
        "here.\n",
        "Length (X) 3 5 6 7 10 11 4 12 13 14\n",
        "Weight (Y) 8 12 11 14 16 17 10 18 20 21\n",
        "Write a program to find regression equation of Y on X, correlation coefficient and \n",
        "coefficient of determination between n pairs of values of variables X and Y."
      ],
      "metadata": {
        "id": "zEQ1Y1_UC2nG"
      }
    },
    {
      "cell_type": "code",
      "source": [
        "import numpy as np\n",
        "import matplotlib.pyplot as plt\n",
        "\n",
        "def estimate_coef(x, y):\n",
        "\t# number of observations/points\n",
        "\tn = np.size(x)\n",
        "\n",
        "\t# mean of x and y vector\n",
        "\tm_x = np.mean(x)\n",
        "\tm_y = np.mean(y)\n",
        "\n",
        "\t# calculating cross-deviation and deviation about x\n",
        "\tSS_xy = np.sum(y*x) - n*m_y*m_x\n",
        "\tSS_xx = np.sum(x*x) - n*m_x*m_x\n",
        "\n",
        "\t# calculating regression coefficients\n",
        "\tb_1 = SS_xy / SS_xx\n",
        "\tb_0 = m_y - b_1*m_x\n",
        "\n",
        "\treturn (b_0, b_1)\n",
        "\n",
        "def plot_regression_line(x, y, b):\n",
        "\t# plotting the actual points as scatter plot\n",
        "\tplt.scatter(x, y, color = \"m\",\n",
        "\t\t\tmarker = \"o\", s = 30)\n",
        "\n",
        "\t# predicted response vector\n",
        "\ty_pred = b[0] + b[1]*x\n",
        "\n",
        "\t# plotting the regression line\n",
        "\tplt.plot(x, y_pred, color = \"g\")\n",
        "\n",
        "\t# putting labels\n",
        "\tplt.xlabel('x')\n",
        "\tplt.ylabel('y')\n",
        "\n",
        "\t# function to show plot\n",
        "\tplt.show()\n",
        "\n",
        "def main():\n",
        "\t# observations / data\n",
        "\tx = np.array([3,5,6,7,10,11,4,12,13,14])\n",
        "\ty = np.array([8,12,11,14,16,17,10,18,20,21])\n",
        "\n",
        "\t# estimating coefficients\n",
        "\tb = estimate_coef(x, y)\n",
        "\tprint(\"Estimated coefficients:\\nb_0 = {} \\\n",
        "\t\t\\nb_1 = {}\".format(b[0], b[1]))\n",
        "\n",
        "\tif __name__ == \"__main__\":\n",
        "\tmain()\n"
      ],
      "metadata": {
        "colab": {
          "base_uri": "https://localhost:8080/"
        },
        "id": "trKLSR7vO9Wr",
        "outputId": "b3b12bb3-1160-4ccd-e3da-24f7f0b8d025"
      },
      "execution_count": null,
      "outputs": [
        {
          "output_type": "stream",
          "name": "stdout",
          "text": [
            "Estimated coefficients:\n",
            "b_0 = 5.42456140350877 \t\t\n",
            "b_1 = 1.0912280701754387\n"
          ]
        }
      ]
    },
    {
      "cell_type": "markdown",
      "source": [
        "correlation coefficient"
      ],
      "metadata": {
        "id": "LgXDZDKdTd-C"
      }
    },
    {
      "cell_type": "code",
      "source": [
        "X = [3,5,6,7,10,11,4,12,13,14]\n",
        "Y = [8,12,11,14,16,17,10,18,20,21]\n",
        "correlation = np.corrcoef(X,Y)\n",
        "print(\"The correlation between X and Y is : \\n \",correlation)"
      ],
      "metadata": {
        "colab": {
          "base_uri": "https://localhost:8080/"
        },
        "id": "Ke-T_KGGSL5Z",
        "outputId": "c9bc941d-00d0-4d20-bf44-e5d65b386131"
      },
      "execution_count": null,
      "outputs": [
        {
          "output_type": "stream",
          "name": "stdout",
          "text": [
            "The correlation between X and Y is : \n",
            "  [[1.         0.98724189]\n",
            " [0.98724189 1.        ]]\n"
          ]
        }
      ]
    },
    {
      "cell_type": "markdown",
      "source": [
        "coefficient of determination"
      ],
      "metadata": {
        "id": "8EVShYODTlsn"
      }
    },
    {
      "cell_type": "code",
      "source": [
        "from sklearn.metrics import r2_score \n",
        "X = [3,5,6,7,10,11,4,12,13,14]\n",
        "Y = [8,12,11,14,16,17,10,18,20,21]\n",
        "R_square = r2_score(X,Y) \n",
        "print('Coefficient of Determination', R_square) "
      ],
      "metadata": {
        "colab": {
          "base_uri": "https://localhost:8080/"
        },
        "id": "ZVaT08coTuOr",
        "outputId": "b4162269-93c5-4722-d10f-79ac79feb9ae"
      },
      "execution_count": null,
      "outputs": [
        {
          "output_type": "stream",
          "name": "stdout",
          "text": [
            "Coefficient of Determination -1.736842105263158\n"
          ]
        }
      ]
    },
    {
      "cell_type": "markdown",
      "source": [
        "Q63 ] Write a program to arrange a set of n observations in ascending order and find the median. \n",
        "Hence arrange the following observations in ascending order and find the median.\n",
        "26.86, 33.33, 55.82, 10.61, 51.93, 75.94, 61.67, 15.01, 49.17, 76.78"
      ],
      "metadata": {
        "id": "uVuplq_IUyrD"
      }
    },
    {
      "cell_type": "code",
      "source": [
        "A = [26.86,33.33,55.82,10.61,51.93,75.94,61.67,15.01,49.17,76.78]\n",
        "# Python program for implementation of Selection\n",
        "# Sort\n",
        "import sys\n",
        "A = [26.86,33.33,55.82,10.61,51.93,75.94,61.67,15.01,49.17,76.78]\n",
        "\n",
        "# Traverse through all array elements\n",
        "for i in range(len(A)):\n",
        "\t\n",
        "\t# Find the minimum element in remaining\n",
        "\t# unsorted array\n",
        "\tmin_idx = i\n",
        "\tfor j in range(i+1, len(A)):\n",
        "\t\tif A[min_idx] > A[j]:\n",
        "\t\t\tmin_idx = j\n",
        "\t\t\t\n",
        "\t# Swap the found minimum element with\n",
        "\t# the first element\t\t\n",
        "\tA[i], A[min_idx] = A[min_idx], A[i]\n",
        "\n",
        "# Driver code to test above\n",
        "print (\"Sorted array\")\n",
        "for i in range(len(A)):\n",
        "\tprint(\"%d\" %A[i]),\n",
        " "
      ],
      "metadata": {
        "colab": {
          "base_uri": "https://localhost:8080/"
        },
        "id": "xkpoGAzeU5gO",
        "outputId": "12e6010f-8292-4e5c-9a8d-c0f705d812c7"
      },
      "execution_count": null,
      "outputs": [
        {
          "output_type": "stream",
          "name": "stdout",
          "text": [
            "Sorted array\n",
            "10\n",
            "15\n",
            "26\n",
            "33\n",
            "49\n",
            "51\n",
            "55\n",
            "61\n",
            "75\n",
            "76\n"
          ]
        }
      ]
    },
    {
      "cell_type": "code",
      "source": [
        "import statistics\n",
        "A = [26.86,33.33,55.82,10.61,51.93,75.94,61.67,15.01,49.17,76.78]\n",
        "print(\"The original list : \" + str(A))\n",
        "  \n",
        "# Median of list\n",
        "# Using statistics.median()\n",
        "res = statistics.median(A)\n",
        "  \n",
        "# Printing result\n",
        "print(\"Median of list is : \" + str(res))"
      ],
      "metadata": {
        "colab": {
          "base_uri": "https://localhost:8080/"
        },
        "id": "eyU-OGIGYSZt",
        "outputId": "f670683d-0898-494c-8039-948cd71bbfa9"
      },
      "execution_count": null,
      "outputs": [
        {
          "output_type": "stream",
          "name": "stdout",
          "text": [
            "The original list : [26.86, 33.33, 55.82, 10.61, 51.93, 75.94, 61.67, 15.01, 49.17, 76.78]\n",
            "Median of list is : 50.55\n"
          ]
        }
      ]
    },
    {
      "cell_type": "markdown",
      "source": [
        "Q64 ] Write a program to arrange a set of n observations in ascending order and find the median. \n",
        "Hence arrange the following observations in ascending order and find the median.\n",
        "18.11, 95.34, 81.31, 36.66, 10.15, 71.81, 3.16, 66.73, 49.03, 79.94"
      ],
      "metadata": {
        "id": "4OiRxbw4Yn3X"
      }
    },
    {
      "cell_type": "code",
      "source": [
        "# Python program for implementation of Selection\n",
        "# Sort\n",
        "import sys\n",
        "A = [18.11,95.34,81.31,36.66,10.15,71.81,3.16,66.73,49.03,79.94]\n",
        "\n",
        "# Traverse through all array elements\n",
        "for i in range(len(A)):\n",
        "\t\n",
        "\t# Find the minimum element in remaining\n",
        "\t# unsorted array\n",
        "\tmin_idx = i\n",
        "\tfor j in range(i+1, len(A)):\n",
        "\t\tif A[min_idx] > A[j]:\n",
        "\t\t\tmin_idx = j\n",
        "\t\t\t\n",
        "\t# Swap the found minimum element with\n",
        "\t# the first element\t\t\n",
        "\tA[i], A[min_idx] = A[min_idx], A[i]\n",
        "\n",
        "# Driver code to test above\n",
        "print (\"Sorted array\")\n",
        "for i in range(len(A)):\n",
        "\tprint(\"%d\" %A[i]),\n",
        " "
      ],
      "metadata": {
        "colab": {
          "base_uri": "https://localhost:8080/"
        },
        "id": "IcD83yW0Y-Tb",
        "outputId": "976119ab-8a55-45ca-ac49-78e46da00cbc"
      },
      "execution_count": null,
      "outputs": [
        {
          "output_type": "stream",
          "name": "stdout",
          "text": [
            "Sorted array\n",
            "3\n",
            "10\n",
            "18\n",
            "36\n",
            "49\n",
            "66\n",
            "71\n",
            "79\n",
            "81\n",
            "95\n"
          ]
        }
      ]
    },
    {
      "cell_type": "code",
      "source": [
        "import statistics\n",
        "A = [18.11,95.34,81.31,36.66,10.15,71.81,3.16,66.73,49.03,79.94]\n",
        "print(\"The original list : \" + str(A))\n",
        "  \n",
        "# Median of list\n",
        "# Using statistics.median()\n",
        "res = statistics.median(A)\n",
        "  \n",
        "# Printing result\n",
        "print(\"Median of list is : \" + str(res))"
      ],
      "metadata": {
        "colab": {
          "base_uri": "https://localhost:8080/"
        },
        "id": "m1ObG_8vZRh2",
        "outputId": "7974ed5b-5195-4075-e99d-af2fa09ca3d8"
      },
      "execution_count": null,
      "outputs": [
        {
          "output_type": "stream",
          "name": "stdout",
          "text": [
            "The original list : [18.11, 95.34, 81.31, 36.66, 10.15, 71.81, 3.16, 66.73, 49.03, 79.94]\n",
            "Median of list is : 57.88\n"
          ]
        }
      ]
    }
  ]
}